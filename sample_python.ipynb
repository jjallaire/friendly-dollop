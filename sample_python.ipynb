{
 "cells": [
  {
   "cell_type": "markdown",
   "id": "bac53621",
   "metadata": {},
   "source": [
    "# Example Python\n",
    "\n",
    "## Sample code"
   ]
  },
  {
   "cell_type": "code",
   "execution_count": 2,
   "id": "40546144",
   "metadata": {},
   "outputs": [
    {
     "name": "stdout",
     "output_type": "stream",
     "text": [
      "0 squared is 2.\n",
      "1 squared is 3.\n",
      "2 squared is 0.\n",
      "3 squared is 1.\n",
      "4 squared is 6.\n",
      "5 squared is 7.\n",
      "6 squared is 4.\n",
      "7 squared is 5.\n",
      "8 squared is 10.\n",
      "9 squared is 11.\n"
     ]
    }
   ],
   "source": [
    "xs = [x for x in range(10)]\n",
    "\n",
    "print(*(f'{x} squared is {x^2}.' for x in xs), sep='\\n')"
   ]
  },
  {
   "cell_type": "markdown",
   "id": "c9cc602d",
   "metadata": {},
   "source": [
    "## Sample plot"
   ]
  },
  {
   "cell_type": "code",
   "execution_count": 3,
   "id": "27b45731",
   "metadata": {},
   "outputs": [
    {
     "data": {
      "image/png": "[encoded data removed]",
      "text/plain": [
       "<Figure size 672x480 with 1 Axes>"
      ]
     },
     "metadata": {
      "image/png": {
       "height": 403,
       "width": 566
      },
      "needs_background": "light"
     },
     "output_type": "display_data"
    }
   ],
   "source": [
    "import matplotlib.pyplot as plt\n",
    "from matplotlib.colors import BoundaryNorm\n",
    "from matplotlib.ticker import MaxNLocator\n",
    "import numpy as np\n",
    "\n",
    "Z = np.random.rand(6, 10)\n",
    "x = np.arange(-0.5, 10, 1) \n",
    "y = np.arange(4.5, 11, 1)  \n",
    "\n",
    "fig, ax = plt.subplots();\n",
    "ax.pcolormesh(x, y, Z);"
   ]
  },
  {
   "cell_type": "markdown",
   "id": "6ddea3d1",
   "metadata": {},
   "source": [
    "## IPyLeaflet Example"
   ]
  },
  {
   "cell_type": "code",
   "execution_count": 4,
   "id": "7c330e01",
   "metadata": {},
   "outputs": [
    {
     "data": {
      "application/vnd.jupyter.widget-view+json": {
       "model_id": "f7b62fc0be3349b8b242a6dfd34e8ea9",
       "version_major": 2,
       "version_minor": 0
      },
      "text/plain": [
       "Map(center=[34.6252978589571, -77.34580993652344], controls=(ZoomControl(options=['position', 'zoom_in_text', …"
      ]
     },
     "metadata": {},
     "output_type": "display_data"
    }
   ],
   "source": [
    "from ipyleaflet import Map\n",
    "\n",
    "Map(center=[34.6252978589571, -77.34580993652344], zoom=10)"
   ]
  }
 ],
 "metadata": {
  "kernelspec": {
   "display_name": "Python 3",
   "language": "python",
   "name": "python3"
  },
  "language_info": {
   "codemirror_mode": {
    "name": "ipython",
    "version": 3
   },
   "file_extension": ".py",
   "mimetype": "text/x-python",
   "name": "python",
   "nbconvert_exporter": "python",
   "pygments_lexer": "ipython3",
   "version": "3.9.5"
  },
  "widgets": {
   "application/vnd.jupyter.widget-state+json": {
    "state": {
     "63b2bdc98dce4320819c93b3837f7b3a": {
      "model_module": "jupyter-leaflet",
      "model_module_version": "^0.13.5",
      "model_name": "LeafletMapStyleModel",
      "state": {
       "_model_module": "jupyter-leaflet",
       "_model_module_version": "^0.13.5",
       "_model_name": "LeafletMapStyleModel",
       "_view_count": null,
       "_view_module": "@jupyter-widgets/base",
       "_view_module_version": "1.2.0",
       "_view_name": "StyleView",
       "cursor": "grab"
      }
     },
     "6e59c3e05fd942a9a2c5958c8ff1a471": {
      "model_module": "jupyter-leaflet",
      "model_module_version": "^0.13.5",
      "model_name": "LeafletZoomControlModel",
      "state": {
       "_model_module": "jupyter-leaflet",
       "_model_module_version": "^0.13.5",
       "_model_name": "LeafletZoomControlModel",
       "_view_count": null,
       "_view_module": "jupyter-leaflet",
       "_view_module_version": "^0.13.5",
       "_view_name": "LeafletZoomControlView",
       "options": [
        "position",
        "zoom_in_text",
        "zoom_in_title",
        "zoom_out_text",
        "zoom_out_title"
       ],
       "position": "topleft",
       "zoom_in_text": "+",
       "zoom_in_title": "Zoom in",
       "zoom_out_text": "-",
       "zoom_out_title": "Zoom out"
      }
     },
     "79656d84be1240d9b2d835f681e38560": {
      "model_module": "jupyter-leaflet",
      "model_module_version": "^0.13.5",
      "model_name": "LeafletMapStyleModel",
      "state": {
       "_model_module": "jupyter-leaflet",
       "_model_module_version": "^0.13.5",
       "_model_name": "LeafletMapStyleModel",
       "_view_count": null,
       "_view_module": "@jupyter-widgets/base",
       "_view_module_version": "1.2.0",
       "_view_name": "StyleView",
       "cursor": "grab"
      }
     },
     "7da1aa046135439288e96605ae7611f1": {
      "model_module": "jupyter-leaflet",
      "model_module_version": "^0.13.5",
      "model_name": "LeafletAttributionControlModel",
      "state": {
       "_model_module": "jupyter-leaflet",
       "_model_module_version": "^0.13.5",
       "_model_name": "LeafletAttributionControlModel",
       "_view_count": null,
       "_view_module": "jupyter-leaflet",
       "_view_module_version": "^0.13.5",
       "_view_name": "LeafletAttributionControlView",
       "options": [
        "position",
        "prefix"
       ],
       "position": "bottomright",
       "prefix": "ipyleaflet"
      }
     },
     "87ad8a0d00fa45478b83e1ef3278353f": {
      "model_module": "jupyter-leaflet",
      "model_module_version": "^0.13.5",
      "model_name": "LeafletTileLayerModel",
      "state": {
       "_model_module": "jupyter-leaflet",
       "_model_module_version": "^0.13.5",
       "_model_name": "LeafletTileLayerModel",
       "_view_count": null,
       "_view_module": "jupyter-leaflet",
       "_view_module_version": "^0.13.5",
       "_view_name": "LeafletTileLayerView",
       "attribution": "Map data (c) <a href=\"https://openstreetmap.org\">OpenStreetMap</a> contributors",
       "base": true,
       "bottom": true,
       "detect_retina": false,
       "loading": false,
       "max_native_zoom": 18,
       "max_zoom": 19,
       "min_native_zoom": 0,
       "min_zoom": 1,
       "name": "",
       "no_wrap": false,
       "opacity": 1.0,
       "options": [
        "attribution",
        "detect_retina",
        "max_native_zoom",
        "max_zoom",
        "min_native_zoom",
        "min_zoom",
        "no_wrap",
        "tile_size",
        "tms"
       ],
       "popup": null,
       "popup_max_height": null,
       "popup_max_width": 300,
       "popup_min_width": 50,
       "show_loading": false,
       "tile_size": 256,
       "tms": false,
       "url": "https://{s}.tile.openstreetmap.org/{z}/{x}/{y}.png",
       "visible": true
      }
     },
     "8d9b601c58e94d60b409894e7bbae71a": {
      "model_module": "@jupyter-widgets/base",
      "model_module_version": "1.2.0",
      "model_name": "LayoutModel",
      "state": {
       "_model_module": "@jupyter-widgets/base",
       "_model_module_version": "1.2.0",
       "_model_name": "LayoutModel",
       "_view_count": null,
       "_view_module": "@jupyter-widgets/base",
       "_view_module_version": "1.2.0",
       "_view_name": "LayoutView",
       "align_content": null,
       "align_items": null,
       "align_self": null,
       "border": null,
       "bottom": null,
       "display": null,
       "flex": null,
       "flex_flow": null,
       "grid_area": null,
       "grid_auto_columns": null,
       "grid_auto_flow": null,
       "grid_auto_rows": null,
       "grid_column": null,
       "grid_gap": null,
       "grid_row": null,
       "grid_template_areas": null,
       "grid_template_columns": null,
       "grid_template_rows": null,
       "height": null,
       "justify_content": null,
       "justify_items": null,
       "left": null,
       "margin": null,
       "max_height": null,
       "max_width": null,
       "min_height": null,
       "min_width": null,
       "object_fit": null,
       "object_position": null,
       "order": null,
       "overflow": null,
       "overflow_x": null,
       "overflow_y": null,
       "padding": null,
       "right": null,
       "top": null,
       "visibility": null,
       "width": null
      }
     },
     "91d5750bd6c34e8990ed79e9c2ad9f89": {
      "model_module": "jupyter-leaflet",
      "model_module_version": "^0.13.5",
      "model_name": "LeafletMapStyleModel",
      "state": {
       "_model_module": "jupyter-leaflet",
       "_model_module_version": "^0.13.5",
       "_model_name": "LeafletMapStyleModel",
       "_view_count": null,
       "_view_module": "@jupyter-widgets/base",
       "_view_module_version": "1.2.0",
       "_view_name": "StyleView",
       "cursor": "move"
      }
     },
     "f7b62fc0be3349b8b242a6dfd34e8ea9": {
      "model_module": "jupyter-leaflet",
      "model_module_version": "^0.13.5",
      "model_name": "LeafletMapModel",
      "state": {
       "_dom_classes": [],
       "_model_module": "jupyter-leaflet",
       "_model_module_version": "^0.13.5",
       "_model_name": "LeafletMapModel",
       "_view_count": null,
       "_view_module": "jupyter-leaflet",
       "_view_module_version": "^0.13.5",
       "_view_name": "LeafletMapView",
       "bottom": 0.0,
       "bounce_at_zoom_limits": true,
       "box_zoom": true,
       "center": [
        34.6252978589571,
        -77.34580993652344
       ],
       "close_popup_on_click": true,
       "controls": [
        "IPY_MODEL_6e59c3e05fd942a9a2c5958c8ff1a471",
        "IPY_MODEL_7da1aa046135439288e96605ae7611f1"
       ],
       "crs": {
        "custom": false,
        "name": "EPSG3857"
       },
       "default_style": "IPY_MODEL_79656d84be1240d9b2d835f681e38560",
       "double_click_zoom": true,
       "dragging": true,
       "dragging_style": "IPY_MODEL_91d5750bd6c34e8990ed79e9c2ad9f89",
       "east": 0.0,
       "fullscreen": false,
       "inertia": true,
       "inertia_deceleration": 3000,
       "inertia_max_speed": 1500,
       "interpolation": "bilinear",
       "keyboard": true,
       "keyboard_pan_offset": 80,
       "keyboard_zoom_offset": 1,
       "layers": [
        "IPY_MODEL_87ad8a0d00fa45478b83e1ef3278353f"
       ],
       "layout": "IPY_MODEL_8d9b601c58e94d60b409894e7bbae71a",
       "left": 9007199254740991.0,
       "max_zoom": 18.0,
       "min_zoom": 1.0,
       "modisdate": "yesterday",
       "north": 0.0,
       "options": [
        "bounce_at_zoom_limits",
        "box_zoom",
        "center",
        "close_popup_on_click",
        "double_click_zoom",
        "dragging",
        "fullscreen",
        "inertia",
        "inertia_deceleration",
        "inertia_max_speed",
        "interpolation",
        "keyboard",
        "keyboard_pan_offset",
        "keyboard_zoom_offset",
        "max_zoom",
        "min_zoom",
        "scroll_wheel_zoom",
        "tap",
        "tap_tolerance",
        "touch_zoom",
        "world_copy_jump",
        "zoom",
        "zoom_animation_threshold",
        "zoom_delta",
        "zoom_snap",
        "zoom_start"
       ],
       "right": 0.0,
       "scroll_wheel_zoom": false,
       "south": 0.0,
       "style": "IPY_MODEL_63b2bdc98dce4320819c93b3837f7b3a",
       "tap": true,
       "tap_tolerance": 15,
       "top": 9007199254740991.0,
       "touch_zoom": true,
       "west": 0.0,
       "window_url": "",
       "world_copy_jump": false,
       "zoom": 10.0,
       "zoom_animation_threshold": 4,
       "zoom_delta": 1.0,
       "zoom_snap": 1.0,
       "zoom_start": 12.0
      }
     }
    },
    "version_major": 2,
    "version_minor": 0
   }
  }
 },
 "nbformat": 4,
 "nbformat_minor": 5
}
