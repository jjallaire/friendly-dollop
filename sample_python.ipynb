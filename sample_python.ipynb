{
 "cells": [
  {
   "cell_type": "raw",
   "id": "e499a9e6",
   "metadata": {},
   "source": [
    "---\n",
    "title: \"Jupyter Notebook Demo\"\n",
    "author: \"Paul Villanueva\"\n",
    "date: \"June 10, 2021\"\n",
    "format: \n",
    "  html:\n",
    "    code-fold: true\n",
    "---"
   ]
  },
  {
   "cell_type": "markdown",
   "id": "e31e71e2",
   "metadata": {},
   "source": [
    "## Example Python"
   ]
  },
  {
   "cell_type": "code",
   "execution_count": 4,
   "id": "9a20695e",
   "metadata": {},
   "outputs": [
    {
     "name": "stdout",
     "output_type": "stream",
     "text": [
      "0 squared is 2.\n",
      "1 squared is 3.\n",
      "2 squared is 0.\n",
      "3 squared is 1.\n",
      "4 squared is 6.\n",
      "5 squared is 7.\n",
      "6 squared is 4.\n",
      "7 squared is 5.\n",
      "8 squared is 10.\n",
      "9 squared is 11.\n"
     ]
    }
   ],
   "source": [
    "xs = [x for x in range(10)]\n",
    "\n",
    "print(*(f'{x} squared is {x^2}.' for x in xs), sep='\\n')"
   ]
  },
  {
   "cell_type": "markdown",
   "id": "03fea046",
   "metadata": {},
   "source": [
    "## Sample plot"
   ]
  },
  {
   "cell_type": "code",
   "execution_count": 7,
   "id": "7566031a",
   "metadata": {},
   "outputs": [
    {
     "data": {
      "image/png": "[encoded data removed]",
      "text/plain": [
       "<Figure size 432x288 with 1 Axes>"
      ]
     },
     "metadata": {
      "needs_background": "light"
     },
     "output_type": "display_data"
    }
   ],
   "source": [
    "import matplotlib.pyplot as plt\n",
    "from matplotlib.colors import BoundaryNorm\n",
    "from matplotlib.ticker import MaxNLocator\n",
    "import numpy as np\n",
    "\n",
    "Z = np.random.rand(6, 10)\n",
    "x = np.arange(-0.5, 10, 1) \n",
    "y = np.arange(4.5, 11, 1)  \n",
    "\n",
    "fig, ax = plt.subplots();\n",
    "ax.pcolormesh(x, y, Z);"
   ]
  },
  {
   "cell_type": "markdown",
   "id": "122e0fa4",
   "metadata": {},
   "source": [
    "## IPyLeaflet example"
   ]
  },
  {
   "cell_type": "code",
   "execution_count": 8,
   "id": "3b7d08b5",
   "metadata": {},
   "outputs": [
    {
     "data": {
      "application/vnd.jupyter.widget-view+json": {
       "model_id": "e75c0bb4fc814eafab807b2503c725e2",
       "version_major": 2,
       "version_minor": 0
      },
      "text/plain": [
       "Map(center=[34.6252978589571, -77.34580993652344], controls=(ZoomControl(options=['position', 'zoom_in_text', …"
      ]
     },
     "metadata": {},
     "output_type": "display_data"
    }
   ],
   "source": [
    "from ipyleaflet import Map\n",
    "\n",
    "Map(center=[34.6252978589571, -77.34580993652344], zoom=10)"
   ]
  }
 ],
 "metadata": {
  "kernelspec": {
   "display_name": "Python 3",
   "language": "python",
   "name": "python3"
  },
  "language_info": {
   "codemirror_mode": {
    "name": "ipython",
    "version": 3
   },
   "file_extension": ".py",
   "mimetype": "text/x-python",
   "name": "python",
   "nbconvert_exporter": "python",
   "pygments_lexer": "ipython3",
   "version": "3.9.5"
  }
 },
 "nbformat": 4,
 "nbformat_minor": 5
}
